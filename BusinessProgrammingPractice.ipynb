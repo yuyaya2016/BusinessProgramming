{
 "cells": [
  {
   "cell_type": "code",
   "execution_count": 29,
   "metadata": {},
   "outputs": [
    {
     "name": "stdout",
     "output_type": "stream",
     "text": [
      "c1 in l2norm: -1\n",
      "distance is: 8\n",
      "c1 in l2norm: -1\n",
      "c1 in sim: -0.5\n",
      "result in sim: -1490.4789935208642\n",
      "c1 in __main__: -1\n",
      "result in __main__: -1490.4789935208642\n"
     ]
    }
   ],
   "source": [
    "import math\n",
    "\n",
    "def l2norm(x1, y1, x2, y2):\n",
    "    print(\"c1 in l2norm:\", c1)\n",
    "    return (x1 - x2) ** 2 + (y1 - y2) ** 2\n",
    "\n",
    "def sim(x1, y1, x2, y2, c1 = -0.5): \n",
    "    result = c1 * math.exp(l2norm(x1, y1, x2, y2))\n",
    "    print(\"c1 in sim:\", c1)\n",
    "    print(\"result in sim:\", result)\n",
    "    return result\n",
    "\n",
    "c1 = -1\n",
    "dist1 = l2norm(2, 3, 4, 5)\n",
    "print(\"distance is:\", dist1)\n",
    "result = sim(2, 3, 4, 5)\n",
    "print(\"c1 in __main__:\", c1)\n",
    "print(\"result in __main__:\", result)"
   ]
  },
  {
   "cell_type": "code",
   "execution_count": 3,
   "metadata": {},
   "outputs": [
    {
     "data": {
      "text/plain": [
       "-1490.4789935208642"
      ]
     },
     "execution_count": 3,
     "metadata": {},
     "output_type": "execute_result"
    }
   ],
   "source": [
    "math.exp(8)*(-0.5)"
   ]
  },
  {
   "cell_type": "code",
   "execution_count": 6,
   "metadata": {},
   "outputs": [
    {
     "name": "stdout",
     "output_type": "stream",
     "text": [
      "3\n"
     ]
    }
   ],
   "source": [
    "import math \n",
    "num = -9\n",
    "ans = int(math.sqrt(abs(num)))\n",
    "print(ans)"
   ]
  },
  {
   "cell_type": "code",
   "execution_count": 28,
   "metadata": {},
   "outputs": [
    {
     "name": "stdout",
     "output_type": "stream",
     "text": [
      "The sum is 5 and the difference is 1\n"
     ]
    }
   ],
   "source": [
    "def sumDiff(x,y):\n",
    "  sum = x + y\n",
    "  diff = x - y\n",
    "  return (sum,diff)\n",
    "\n",
    "num1 = 3\n",
    "num2 = 2\n",
    "s, d = sumDiff(num1, num2)\n",
    "print(\"The sum is\", s, \"and the difference is\", d)\n"
   ]
  },
  {
   "cell_type": "code",
   "execution_count": 95,
   "metadata": {},
   "outputs": [
    {
     "data": {
      "text/plain": [
       "'\\n    checksum = 0\\n    for apair in zip(newid, weight):\\n        checksum += apair[1] * int(apair[0])\\n    if checksum % 10 == 0:\\n        return True\\n    else:\\n        return False\\n'"
      ]
     },
     "execution_count": 95,
     "metadata": {},
     "output_type": "execute_result"
    }
   ],
   "source": [
    "def verift_twid(id_1):\n",
    "    \n",
    "#check length\n",
    "    if len(id_1)!=10:\n",
    "        return False\n",
    "\n",
    "#check first letter\n",
    "    code1 = ord(id_1[0])\n",
    "    if(code1 < 65 or code1 > 90):\n",
    "        return False\n",
    "\n",
    "#check the remaining letters\n",
    "    for i in range(1, 10):\n",
    "        code2 = ord(id_1[i])\n",
    "        if (code2 < 48 or code2 > 57):\n",
    "            return False\n",
    "\n",
    "#check the second character\n",
    "    code2 = ord(id_1[1])\n",
    "    if (code2 < 49 or code2 > 50):\n",
    "        return False\n",
    "\n",
    "#convert first English character to two-digit number\n",
    "    camp = [10, 11, 12, 13, 14, 15, 16, 17, 34, 18, 19, 20, 21, 22, 35, 23, 24,25, 26, 27, 28, 29, 32, 30, 31, 33]\n",
    "    num1 = camp[code1 - 65]\n",
    "    newid = str(num1) + id_1[1:]\n",
    "    weight = [1,9,8,7,6,5,4,3,2,1,1]\n",
    "\n",
    "#寫法3\n",
    "#use lambda + map\n",
    "    output = map(lambda apair: apair[1] * int(apair[0]), zip(newid, weight))\n",
    "    checksum = sum(output)\n",
    "    if checksum % 10 == 0:\n",
    "        return True\n",
    "    else:\n",
    "        return False    \n",
    "    \n",
    "#寫法1\n",
    "\"\"\"   checksum = 0\n",
    "    for i in range(0, 11):\n",
    "        checksum += weight[i] * int(newid[i])\n",
    "    if checksum % 10 == 0:\n",
    "        return True\n",
    "    else:\n",
    "        return False\n",
    "\"\"\" \n",
    "\n",
    "#寫法2\n",
    "#use zip function and tuple to rerite the weight calculation\n",
    "#apair is a tuple; apair[0] 是原本newid的string; apair[1] 是權重\n",
    "\"\"\"\n",
    "    checksum = 0\n",
    "    for apair in zip(newid, weight):\n",
    "        checksum += apair[1] * int(apair[0])\n",
    "    if checksum % 10 == 0:\n",
    "        return True\n",
    "    else:\n",
    "        return False\n",
    "\"\"\"\n",
    "\n"
   ]
  },
  {
   "cell_type": "code",
   "execution_count": 96,
   "metadata": {},
   "outputs": [
    {
     "ename": "TypeError",
     "evalue": "'str' object is not callable",
     "output_type": "error",
     "traceback": [
      "\u001b[0;31m---------------------------------------------------------------------------\u001b[0m",
      "\u001b[0;31mTypeError\u001b[0m                                 Traceback (most recent call last)",
      "\u001b[0;32m<ipython-input-96-8ebf2538e0f0>\u001b[0m in \u001b[0;36m<module>\u001b[0;34m()\u001b[0m\n\u001b[0;32m----> 1\u001b[0;31m \u001b[0mverift_twid\u001b[0m\u001b[0;34m(\u001b[0m\u001b[0;34m'A154285748'\u001b[0m\u001b[0;34m)\u001b[0m\u001b[0;34m\u001b[0m\u001b[0m\n\u001b[0m",
      "\u001b[0;32m<ipython-input-95-83dab29802f8>\u001b[0m in \u001b[0;36mverift_twid\u001b[0;34m(id_1)\u001b[0m\n\u001b[1;32m     24\u001b[0m     \u001b[0mcamp\u001b[0m \u001b[0;34m=\u001b[0m \u001b[0;34m[\u001b[0m\u001b[0;36m10\u001b[0m\u001b[0;34m,\u001b[0m \u001b[0;36m11\u001b[0m\u001b[0;34m,\u001b[0m \u001b[0;36m12\u001b[0m\u001b[0;34m,\u001b[0m \u001b[0;36m13\u001b[0m\u001b[0;34m,\u001b[0m \u001b[0;36m14\u001b[0m\u001b[0;34m,\u001b[0m \u001b[0;36m15\u001b[0m\u001b[0;34m,\u001b[0m \u001b[0;36m16\u001b[0m\u001b[0;34m,\u001b[0m \u001b[0;36m17\u001b[0m\u001b[0;34m,\u001b[0m \u001b[0;36m34\u001b[0m\u001b[0;34m,\u001b[0m \u001b[0;36m18\u001b[0m\u001b[0;34m,\u001b[0m \u001b[0;36m19\u001b[0m\u001b[0;34m,\u001b[0m \u001b[0;36m20\u001b[0m\u001b[0;34m,\u001b[0m \u001b[0;36m21\u001b[0m\u001b[0;34m,\u001b[0m \u001b[0;36m22\u001b[0m\u001b[0;34m,\u001b[0m \u001b[0;36m35\u001b[0m\u001b[0;34m,\u001b[0m \u001b[0;36m23\u001b[0m\u001b[0;34m,\u001b[0m \u001b[0;36m24\u001b[0m\u001b[0;34m,\u001b[0m\u001b[0;36m25\u001b[0m\u001b[0;34m,\u001b[0m \u001b[0;36m26\u001b[0m\u001b[0;34m,\u001b[0m \u001b[0;36m27\u001b[0m\u001b[0;34m,\u001b[0m \u001b[0;36m28\u001b[0m\u001b[0;34m,\u001b[0m \u001b[0;36m29\u001b[0m\u001b[0;34m,\u001b[0m \u001b[0;36m32\u001b[0m\u001b[0;34m,\u001b[0m \u001b[0;36m30\u001b[0m\u001b[0;34m,\u001b[0m \u001b[0;36m31\u001b[0m\u001b[0;34m,\u001b[0m \u001b[0;36m33\u001b[0m\u001b[0;34m]\u001b[0m\u001b[0;34m\u001b[0m\u001b[0m\n\u001b[1;32m     25\u001b[0m     \u001b[0mnum1\u001b[0m \u001b[0;34m=\u001b[0m \u001b[0mcamp\u001b[0m\u001b[0;34m[\u001b[0m\u001b[0mcode1\u001b[0m \u001b[0;34m-\u001b[0m \u001b[0;36m65\u001b[0m\u001b[0;34m]\u001b[0m\u001b[0;34m\u001b[0m\u001b[0m\n\u001b[0;32m---> 26\u001b[0;31m     \u001b[0mnewid\u001b[0m \u001b[0;34m=\u001b[0m \u001b[0mstr\u001b[0m\u001b[0;34m(\u001b[0m\u001b[0mnum1\u001b[0m\u001b[0;34m)\u001b[0m \u001b[0;34m+\u001b[0m \u001b[0mid_1\u001b[0m\u001b[0;34m[\u001b[0m\u001b[0;36m1\u001b[0m\u001b[0;34m:\u001b[0m\u001b[0;34m]\u001b[0m\u001b[0;34m\u001b[0m\u001b[0m\n\u001b[0m\u001b[1;32m     27\u001b[0m     \u001b[0mweight\u001b[0m \u001b[0;34m=\u001b[0m \u001b[0;34m[\u001b[0m\u001b[0;36m1\u001b[0m\u001b[0;34m,\u001b[0m\u001b[0;36m9\u001b[0m\u001b[0;34m,\u001b[0m\u001b[0;36m8\u001b[0m\u001b[0;34m,\u001b[0m\u001b[0;36m7\u001b[0m\u001b[0;34m,\u001b[0m\u001b[0;36m6\u001b[0m\u001b[0;34m,\u001b[0m\u001b[0;36m5\u001b[0m\u001b[0;34m,\u001b[0m\u001b[0;36m4\u001b[0m\u001b[0;34m,\u001b[0m\u001b[0;36m3\u001b[0m\u001b[0;34m,\u001b[0m\u001b[0;36m2\u001b[0m\u001b[0;34m,\u001b[0m\u001b[0;36m1\u001b[0m\u001b[0;34m,\u001b[0m\u001b[0;36m1\u001b[0m\u001b[0;34m]\u001b[0m\u001b[0;34m\u001b[0m\u001b[0m\n\u001b[1;32m     28\u001b[0m \u001b[0;34m\u001b[0m\u001b[0m\n",
      "\u001b[0;31mTypeError\u001b[0m: 'str' object is not callable"
     ]
    }
   ],
   "source": [
    "verift_twid('A154285748')"
   ]
  },
  {
   "cell_type": "code",
   "execution_count": 85,
   "metadata": {},
   "outputs": [
    {
     "data": {
      "text/plain": [
       "2"
      ]
     },
     "execution_count": 85,
     "metadata": {},
     "output_type": "execute_result"
    }
   ],
   "source": [
    "newid = '14240211835'\n",
    "weight = [1,9,8,7,6,5,4,3,2,1,1]\n",
    "checksum = 0\n",
    "for i in range(0,11):\n",
    "\tchecksum += weight[i]*int(newid[i])\n",
    "remainder = checksum % 10\n",
    "remainder\n"
   ]
  },
  {
   "cell_type": "code",
   "execution_count": 88,
   "metadata": {},
   "outputs": [
    {
     "name": "stdout",
     "output_type": "stream",
     "text": [
      "22.1\n"
     ]
    }
   ],
   "source": [
    "print(\"%03.01f\" % 22.1)"
   ]
  },
  {
   "cell_type": "code",
   "execution_count": 112,
   "metadata": {},
   "outputs": [
    {
     "data": {
      "text/plain": [
       "datetime.datetime(2010, 7, 25, 22, 18)"
      ]
     },
     "execution_count": 112,
     "metadata": {},
     "output_type": "execute_result"
    }
   ],
   "source": [
    "from datetime import datetime, timedelta\n",
    "#2010年3月2日中午12點15分0秒起算\n",
    "#145天10小時又3分鐘\n",
    "t0 = datetime(2010,3,2,12,15,0)\n",
    "td = timedelta(days = 145, hours = 10, minutes = 3)\n",
    "t0 + td\n",
    "#datetime.striptime(t1,\"%Y-%m-%d %H:%M:%S.%f\")"
   ]
  },
  {
   "cell_type": "code",
   "execution_count": 114,
   "metadata": {},
   "outputs": [],
   "source": [
    "def histogram(seq):\n",
    "\td = dict()\n",
    "\tfor element in seq:\n",
    "\t\tif element not in d:\n",
    "\t\t\td[element] = 1\n",
    "\t\telse:\n",
    "\t\t\td[element] += 1\n",
    "\treturn d\n",
    "\n",
    "def invert_dict(d):\n",
    "    inv = dict()\n",
    "    for key in d:\n",
    "        val = d[key]\n",
    "        if val not in inv:\n",
    "            inv[val] = [key]\n",
    "        else:\n",
    "            inv[val].append(key)\n",
    "    return inv"
   ]
  },
  {
   "cell_type": "code",
   "execution_count": 117,
   "metadata": {},
   "outputs": [
    {
     "data": {
      "text/plain": [
       "{'c': 1,\n",
       " 'e': 1,\n",
       " 'g': 1,\n",
       " 'h': 1,\n",
       " 'i': 1,\n",
       " 'l': 1,\n",
       " 'o': 2,\n",
       " 'p': 1,\n",
       " 's': 2,\n",
       " 'y': 1}"
      ]
     },
     "execution_count": 117,
     "metadata": {},
     "output_type": "execute_result"
    }
   ],
   "source": [
    "seq = 'psychologies'\n",
    "d = histogram(seq)\n",
    "d"
   ]
  },
  {
   "cell_type": "code",
   "execution_count": 118,
   "metadata": {},
   "outputs": [
    {
     "data": {
      "text/plain": [
       "{1: ['p', 'y', 'c', 'h', 'l', 'g', 'i', 'e'], 2: ['s', 'o']}"
      ]
     },
     "execution_count": 118,
     "metadata": {},
     "output_type": "execute_result"
    }
   ],
   "source": [
    "invert_dict(d)"
   ]
  }
 ],
 "metadata": {
  "kernelspec": {
   "display_name": "Python 3",
   "language": "python",
   "name": "python3"
  },
  "language_info": {
   "codemirror_mode": {
    "name": "ipython",
    "version": 3
   },
   "file_extension": ".py",
   "mimetype": "text/x-python",
   "name": "python",
   "nbconvert_exporter": "python",
   "pygments_lexer": "ipython3",
   "version": "3.6.1"
  }
 },
 "nbformat": 4,
 "nbformat_minor": 2
}
